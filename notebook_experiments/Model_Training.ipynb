{
 "cells": [
  {
   "cell_type": "markdown",
   "source": [
    "# Model Training\n"
   ],
   "metadata": {
    "collapsed": false,
    "id": "ab5fbb9a820dfbfc"
   },
   "id": "ab5fbb9a820dfbfc"
  },
  {
   "cell_type": "code",
   "execution_count": null,
   "outputs": [],
   "source": [
    "#Import Data and Required Packages\n",
    "import pandas as pd"
   ],
   "metadata": {
    "ExecuteTime": {
     "end_time": "2024-10-19T15:32:24.412107900Z",
     "start_time": "2024-10-19T15:32:23.488971500Z"
    },
    "id": "915a658054fb6d9"
   },
   "id": "915a658054fb6d9"
  },
  {
   "cell_type": "code",
   "execution_count": null,
   "outputs": [],
   "source": [
    "import numpy as np"
   ],
   "metadata": {
    "ExecuteTime": {
     "end_time": "2024-10-19T15:32:24.422441500Z",
     "start_time": "2024-10-19T15:32:24.416087600Z"
    },
    "id": "a562f2b4f4b20394"
   },
   "id": "a562f2b4f4b20394"
  },
  {
   "cell_type": "code",
   "execution_count": null,
   "outputs": [],
   "source": [
    "#Import the CSV Data as Pandas DataFrame\n",
    "df = pd.read_csv('./data/fraud_oracle.csv')"
   ],
   "metadata": {
    "ExecuteTime": {
     "end_time": "2024-10-19T15:32:24.497586800Z",
     "start_time": "2024-10-19T15:32:24.422441500Z"
    },
    "id": "50d0643a6259e51a"
   },
   "id": "50d0643a6259e51a"
  },
  {
   "cell_type": "markdown",
   "source": [
    "# Data processing\n"
   ],
   "metadata": {
    "collapsed": false,
    "id": "d44ab7c9095a88f4"
   },
   "id": "d44ab7c9095a88f4"
  },
  {
   "cell_type": "code",
   "execution_count": null,
   "outputs": [],
   "source": [
    "from sklearn.model_selection import train_test_split\n",
    "# Encoding\n",
    "from sklearn.preprocessing import LabelEncoder"
   ],
   "metadata": {
    "ExecuteTime": {
     "end_time": "2024-10-19T15:32:26.397730Z",
     "start_time": "2024-10-19T15:32:25.094467900Z"
    },
    "id": "a855bb30cb59e958"
   },
   "id": "a855bb30cb59e958"
  },
  {
   "cell_type": "code",
   "execution_count": null,
   "outputs": [],
   "source": [
    "# Assuming 'df' is your DataFrame and 'target_column' is the column you're predicting\n",
    "X = df.drop('FraudFound_P', axis=1)  # Features\n",
    "y = df['FraudFound_P']  # Target\n",
    "\n",
    "# Split the data into 80% training and 20% testing\n",
    "X_train, X_test, y_train, y_test = train_test_split(X, y, test_size=0.2, random_state=42)"
   ],
   "metadata": {
    "ExecuteTime": {
     "end_time": "2024-10-19T15:32:26.414298900Z",
     "start_time": "2024-10-19T15:32:26.406735300Z"
    },
    "id": "bc520ca6181a1a53"
   },
   "id": "bc520ca6181a1a53"
  },
  {
   "cell_type": "code",
   "execution_count": null,
   "outputs": [],
   "source": [
    "Xtrain_v1=X_train.copy()\n",
    "Xtest_v1=X_test.copy()"
   ],
   "metadata": {
    "ExecuteTime": {
     "end_time": "2024-10-19T15:32:26.425278300Z",
     "start_time": "2024-10-19T15:32:26.417299400Z"
    },
    "id": "b375c29df34f9804"
   },
   "id": "b375c29df34f9804"
  },
  {
   "cell_type": "code",
   "execution_count": null,
   "outputs": [],
   "source": [
    "binary_columns = [col for col in X.columns if X[col].nunique() == 2]"
   ],
   "metadata": {
    "ExecuteTime": {
     "end_time": "2024-10-19T15:32:26.932540700Z",
     "start_time": "2024-10-19T15:32:26.893627500Z"
    },
    "id": "b3fd7c4e44bf088c"
   },
   "id": "b3fd7c4e44bf088c"
  },
  {
   "cell_type": "code",
   "execution_count": null,
   "outputs": [
    {
     "name": "stdout",
     "output_type": "stream",
     "text": [
      "The number of Binary Columns:  6\n",
      "Binary Columns:  ['AccidentArea', 'Sex', 'Fault', 'PoliceReportFiled', 'WitnessPresent', 'AgentType']\n"
     ]
    }
   ],
   "source": [
    "print('The number of Binary Columns: ', len(binary_columns))\n",
    "print('Binary Columns: ', binary_columns)"
   ],
   "metadata": {
    "ExecuteTime": {
     "end_time": "2024-10-19T15:32:27.289607300Z",
     "start_time": "2024-10-19T15:32:27.285191900Z"
    },
    "id": "14bc471642a840d6",
    "outputId": "47d81c6f-6b84-4bc9-aceb-00ef740211f2"
   },
   "id": "14bc471642a840d6"
  },
  {
   "cell_type": "code",
   "execution_count": null,
   "outputs": [
    {
     "name": "stdout",
     "output_type": "stream",
     "text": [
      "Label Mapping:  {'Rural': 0, 'Urban': 1}\n",
      "Label Mapping:  {'Female': 0, 'Male': 1}\n",
      "Label Mapping:  {'Policy Holder': 0, 'Third Party': 1}\n",
      "Label Mapping:  {'No': 0, 'Yes': 1}\n",
      "Label Mapping:  {'No': 0, 'Yes': 1}\n",
      "Label Mapping:  {'External': 0, 'Internal': 1}\n"
     ]
    }
   ],
   "source": [
    "#train set processing\n",
    "# Encoding Categorical Variables (Binary Variable) - Label Encoding¶\n",
    "le = LabelEncoder()\n",
    "for col  in binary_columns:\n",
    "    Xtrain_v1[col] = le.fit_transform(Xtrain_v1[col])\n",
    "    print('Label Mapping: ', dict(zip(le.classes_, le.transform(le.classes_))))"
   ],
   "metadata": {
    "ExecuteTime": {
     "end_time": "2024-10-19T15:32:27.508631200Z",
     "start_time": "2024-10-19T15:32:27.453873600Z"
    },
    "id": "9e56725e96f480a8",
    "outputId": "292db1f1-96c0-40eb-ef5a-da07ba9c9d4f"
   },
   "id": "9e56725e96f480a8"
  },
  {
   "cell_type": "code",
   "execution_count": null,
   "outputs": [
    {
     "name": "stdout",
     "output_type": "stream",
     "text": [
      "Label Mapping:  {'Rural': 0, 'Urban': 1}\n",
      "Label Mapping:  {'Female': 0, 'Male': 1}\n",
      "Label Mapping:  {'Policy Holder': 0, 'Third Party': 1}\n",
      "Label Mapping:  {'No': 0, 'Yes': 1}\n",
      "Label Mapping:  {'No': 0, 'Yes': 1}\n",
      "Label Mapping:  {'External': 0, 'Internal': 1}\n"
     ]
    }
   ],
   "source": [
    "#test set processing\n",
    "le = LabelEncoder()\n",
    "for col  in binary_columns:\n",
    "    Xtest_v1[col] = le.fit_transform(Xtest_v1[col])\n",
    "    print('Label Mapping: ', dict(zip(le.classes_, le.transform(le.classes_))))"
   ],
   "metadata": {
    "ExecuteTime": {
     "end_time": "2024-10-23T09:21:39.182552900Z",
     "start_time": "2024-10-23T09:21:39.147795900Z"
    },
    "id": "5c340a3bfce830de",
    "outputId": "258572c4-ff4b-4ab0-fe11-e24076639db9"
   },
   "id": "5c340a3bfce830de"
  },
  {
   "cell_type": "markdown",
   "source": [
    "An Ordinal Categorical Variable is a categorical variable where the categories have a logical order or ranking\n",
    "A Nominal Categorical Variable is a categorical variable where the categories do not have a logical order or ranking\n"
   ],
   "metadata": {
    "collapsed": false,
    "id": "b14e725b75416bec"
   },
   "id": "b14e725b75416bec"
  },
  {
   "cell_type": "code",
   "execution_count": null,
   "outputs": [
    {
     "name": "stdout",
     "output_type": "stream",
     "text": [
      "The unique values in VehiclePrice: ['20000 to 29000' '30000 to 39000' 'more than 69000' '40000 to 59000'\n",
      " 'less than 20000' '60000 to 69000']\n",
      "The unique values in DriverRating: [4 1 2 3]\n",
      "The unique values in AgeOfVehicle: ['7 years' 'more than 7' '6 years' '5 years' 'new' '3 years' '4 years'\n",
      " '2 years']\n",
      "The unique values in BasePolicy: ['Liability' 'Collision' 'All Perils']\n"
     ]
    }
   ],
   "source": [
    "for col in ['VehiclePrice', 'DriverRating', 'AgeOfVehicle', 'BasePolicy']:\n",
    "    print(f\"The unique values in {col}: {Xtrain_v1[col].unique()}\")"
   ],
   "metadata": {
    "ExecuteTime": {
     "end_time": "2024-10-19T15:32:30.475786200Z",
     "start_time": "2024-10-19T15:32:30.457975500Z"
    },
    "id": "69c03c94e2a2372e",
    "outputId": "9f356212-4999-4445-ad72-3a6e33539569"
   },
   "id": "69c03c94e2a2372e"
  },
  {
   "cell_type": "code",
   "execution_count": null,
   "outputs": [],
   "source": [
    "vehicleprice_label = {'more than 69000': 1, '20000 to 29000': 0,  '30000 to 39000': 0, 'less than 20000': 1, '40000 to 59000': 1, '60000 to 69000': 0}\n",
    "ageofvehicle_label = {'new': 2, '2 years': 0, '3 years': 2, '4 years': 2, '5 years': 1, '6 years': 1, '7 years': 0, 'more than 7': 0}\n",
    "basepolicy_label = {'Liability': 0, 'Collision': 1, 'All Perils': 2}"
   ],
   "metadata": {
    "ExecuteTime": {
     "end_time": "2024-10-19T15:32:31.087014100Z",
     "start_time": "2024-10-19T15:32:31.082891400Z"
    },
    "id": "4266f3ed4beccc8c"
   },
   "id": "4266f3ed4beccc8c"
  },
  {
   "cell_type": "code",
   "execution_count": null,
   "outputs": [],
   "source": [
    "#train set processing\n",
    "Xtrain_v1['VehiclePrice'] = Xtrain_v1['VehiclePrice'].map(vehicleprice_label)\n",
    "Xtrain_v1['AgeOfVehicle'] = Xtrain_v1['AgeOfVehicle'].map(ageofvehicle_label)\n",
    "Xtrain_v1['BasePolicy'] = Xtrain_v1['BasePolicy'].map(basepolicy_label)"
   ],
   "metadata": {
    "ExecuteTime": {
     "end_time": "2024-10-19T15:32:31.674132400Z",
     "start_time": "2024-10-19T15:32:31.652944200Z"
    },
    "id": "17fd78b8d652a668"
   },
   "id": "17fd78b8d652a668"
  },
  {
   "cell_type": "code",
   "execution_count": null,
   "outputs": [],
   "source": [
    "#test set processing\n",
    "Xtest_v1['VehiclePrice'] = Xtest_v1['VehiclePrice'].map(vehicleprice_label)\n",
    "Xtest_v1['AgeOfVehicle'] = Xtest_v1['AgeOfVehicle'].map(ageofvehicle_label)\n",
    "Xtest_v1['BasePolicy'] = Xtest_v1['BasePolicy'].map(basepolicy_label)"
   ],
   "metadata": {
    "ExecuteTime": {
     "end_time": "2024-10-23T09:22:26.046439900Z",
     "start_time": "2024-10-23T09:22:26.038700400Z"
    },
    "id": "17d3b52f3c666cc"
   },
   "id": "17d3b52f3c666cc"
  },
  {
   "cell_type": "code",
   "execution_count": null,
   "outputs": [],
   "source": [
    "dtype_change_string = ['RepNumber', 'Deductible', 'Year']\n",
    "#train set processing\n",
    "for col in dtype_change_string:\n",
    "    Xtrain_v1[col] = Xtrain_v1[col].astype(str)"
   ],
   "metadata": {
    "ExecuteTime": {
     "end_time": "2024-10-19T15:33:29.651740Z",
     "start_time": "2024-10-19T15:33:29.607582500Z"
    },
    "id": "ee16c8a73c3b08cc"
   },
   "id": "ee16c8a73c3b08cc"
  },
  {
   "cell_type": "code",
   "execution_count": null,
   "outputs": [],
   "source": [
    "#test set processing\n",
    "for col in dtype_change_string:\n",
    "    Xtest_v1[col] = Xtest_v1[col].astype(str)"
   ],
   "metadata": {
    "ExecuteTime": {
     "end_time": "2024-10-23T09:22:48.727923300Z",
     "start_time": "2024-10-23T09:22:48.712994Z"
    },
    "id": "6847de2ced41cca9"
   },
   "id": "6847de2ced41cca9"
  },
  {
   "cell_type": "code",
   "execution_count": null,
   "outputs": [
    {
     "name": "stdout",
     "output_type": "stream",
     "text": [
      "The number of one-hot encoding target features:  15\n"
     ]
    }
   ],
   "source": [
    "onehot_encoding_columns = ['Make', 'MonthClaimed', 'MaritalStatus', 'PolicyType', 'VehicleCategory', 'RepNumber', 'Deductible', 'Days_Policy_Accident', 'Days_Policy_Claim', 'PastNumberOfClaims', 'AgeOfPolicyHolder', 'NumberOfSuppliments', 'AddressChange_Claim', 'NumberOfCars', 'Year']\n",
    "print(\"The number of one-hot encoding target features: \", len(onehot_encoding_columns))"
   ],
   "metadata": {
    "ExecuteTime": {
     "end_time": "2024-10-19T15:33:36.747411100Z",
     "start_time": "2024-10-19T15:33:36.728383600Z"
    },
    "id": "4f5ffe6baea560f4",
    "outputId": "e179d282-d490-4b0a-d4a1-cc83a8a4e07f"
   },
   "id": "4f5ffe6baea560f4"
  },
  {
   "cell_type": "code",
   "execution_count": null,
   "outputs": [],
   "source": [
    "#dummification\n",
    "Xtrain_v1= pd.get_dummies(Xtrain_v1, columns=onehot_encoding_columns)"
   ],
   "metadata": {
    "ExecuteTime": {
     "end_time": "2024-10-19T15:33:38.979206500Z",
     "start_time": "2024-10-19T15:33:38.913033100Z"
    },
    "id": "809990b8a60502ec"
   },
   "id": "809990b8a60502ec"
  },
  {
   "cell_type": "code",
   "execution_count": null,
   "outputs": [],
   "source": [
    "Xtest_v1= pd.get_dummies(Xtest_v1, columns=onehot_encoding_columns)"
   ],
   "metadata": {
    "ExecuteTime": {
     "end_time": "2024-10-23T09:23:04.154628100Z",
     "start_time": "2024-10-23T09:23:04.083308700Z"
    },
    "id": "626b1ce0f0a87819"
   },
   "id": "626b1ce0f0a87819"
  },
  {
   "cell_type": "markdown",
   "source": [
    "Now, all features' datatypes are \"Integer\" or \"Boolean"
   ],
   "metadata": {
    "collapsed": false,
    "id": "2c902c4dfd1cb600"
   },
   "id": "2c902c4dfd1cb600"
  },
  {
   "cell_type": "markdown",
   "source": [
    "# Data Reduction"
   ],
   "metadata": {
    "collapsed": false,
    "id": "bd3696d72855288b"
   },
   "id": "bd3696d72855288b"
  },
  {
   "cell_type": "code",
   "execution_count": null,
   "outputs": [],
   "source": [
    "useless_columns = ['Month', 'WeekOfMonth', 'DayOfWeek', 'DayOfWeekClaimed', 'WeekOfMonthClaimed', 'PolicyNumber']\n",
    "Xtrain_v2 = Xtrain_v1.drop(columns=useless_columns, axis=1)"
   ],
   "metadata": {
    "ExecuteTime": {
     "end_time": "2024-10-19T15:34:02.879551300Z",
     "start_time": "2024-10-19T15:34:02.862617400Z"
    },
    "id": "48197f1234c3b8d5"
   },
   "id": "48197f1234c3b8d5"
  },
  {
   "cell_type": "code",
   "execution_count": null,
   "outputs": [],
   "source": [
    "Xtest_v2 = Xtest_v1.drop(columns=useless_columns, axis=1)"
   ],
   "metadata": {
    "ExecuteTime": {
     "end_time": "2024-10-23T09:23:34.385961200Z",
     "start_time": "2024-10-23T09:23:34.374971100Z"
    },
    "id": "22cde565dd7c45a5"
   },
   "id": "22cde565dd7c45a5"
  },
  {
   "cell_type": "code",
   "execution_count": null,
   "outputs": [
    {
     "name": "stdout",
     "output_type": "stream",
     "text": [
      "The Number of One-hot Encoded Columns:  104\n"
     ]
    }
   ],
   "source": [
    "onehot_encoded_columns = [col for col in Xtrain_v2.columns if '_' in col]\n",
    "print(\"The Number of One-hot Encoded Columns: \", len(onehot_encoded_columns))"
   ],
   "metadata": {
    "ExecuteTime": {
     "end_time": "2024-10-19T15:34:03.299057600Z",
     "start_time": "2024-10-19T15:34:03.277917Z"
    },
    "id": "65731a96c9f12487",
    "outputId": "25384792-cfc2-4fab-be30-e4525c91d5be"
   },
   "id": "65731a96c9f12487"
  },
  {
   "cell_type": "code",
   "execution_count": null,
   "outputs": [
    {
     "name": "stdout",
     "output_type": "stream",
     "text": [
      "The Number of Constant Features:  8\n"
     ]
    }
   ],
   "source": [
    "constant_features = []\n",
    "for col in onehot_encoded_columns:\n",
    "    if Xtrain_v2 [col].sum() <= 5:\n",
    "        constant_features.append(col)\n",
    "print(\"The Number of Constant Features: \", len(constant_features))"
   ],
   "metadata": {
    "ExecuteTime": {
     "end_time": "2024-10-19T15:34:04.175410800Z",
     "start_time": "2024-10-19T15:34:04.147996800Z"
    },
    "id": "fbd6a4121649b7a1",
    "outputId": "326b074e-55da-4ba1-ab17-f545a64da9b3"
   },
   "id": "fbd6a4121649b7a1"
  },
  {
   "cell_type": "code",
   "execution_count": null,
   "outputs": [
    {
     "data": {
      "text/plain": "['Make_Ferrari',\n 'Make_Jaguar',\n 'Make_Lexus',\n 'Make_Mecedes',\n 'Make_Porche',\n 'Deductible_300',\n 'AddressChange_Claim_under 6 months',\n 'NumberOfCars_more than 8']"
     },
     "execution_count": 21,
     "metadata": {},
     "output_type": "execute_result"
    }
   ],
   "source": [
    "constant_features"
   ],
   "metadata": {
    "ExecuteTime": {
     "end_time": "2024-10-19T15:34:04.778174300Z",
     "start_time": "2024-10-19T15:34:04.770402200Z"
    },
    "id": "a8243e81c6e8c215",
    "outputId": "8e3e4722-9f98-4c46-815d-c1332fac3be6"
   },
   "id": "a8243e81c6e8c215"
  },
  {
   "cell_type": "code",
   "execution_count": null,
   "outputs": [
    {
     "data": {
      "text/plain": "(12336, 107)"
     },
     "execution_count": 22,
     "metadata": {},
     "output_type": "execute_result"
    }
   ],
   "source": [
    "Xtrain_v2.drop(columns=constant_features, axis=1, inplace=True)\n",
    "Xtrain_v2.shape"
   ],
   "metadata": {
    "ExecuteTime": {
     "end_time": "2024-10-19T15:34:05.235370700Z",
     "start_time": "2024-10-19T15:34:05.215115200Z"
    },
    "id": "b966908eceda0c9d",
    "outputId": "41958d16-6798-499b-a3b4-bfee34c34d49"
   },
   "id": "b966908eceda0c9d"
  },
  {
   "cell_type": "markdown",
   "source": [
    "# Outlier Handeling"
   ],
   "metadata": {
    "collapsed": false,
    "id": "7dc9a9b4dc26959d"
   },
   "id": "7dc9a9b4dc26959d"
  },
  {
   "cell_type": "code",
   "execution_count": null,
   "outputs": [],
   "source": [
    "import lightgbm as lgb"
   ],
   "metadata": {
    "ExecuteTime": {
     "end_time": "2024-10-19T15:34:08.696578200Z",
     "start_time": "2024-10-19T15:34:07.199895600Z"
    },
    "id": "d8d314b6ec766843"
   },
   "id": "d8d314b6ec766843"
  },
  {
   "cell_type": "code",
   "execution_count": null,
   "outputs": [],
   "source": [
    "# Function02: Outlier Replacement using LightGBM\n",
    "def lightgbm_imputation(dataframe, feature):\n",
    "    df_copy = dataframe.copy()\n",
    "    train_data = df_copy[df_copy[feature].notnull()]\n",
    "    test_data = df_copy[df_copy[feature].isnull()]\n",
    "\n",
    "    X_train = train_data.drop(columns=[feature], axis=1)\n",
    "    y_train = train_data[feature]\n",
    "    X_test = test_data.drop(columns=[feature], axis=1)\n",
    "\n",
    "    train_dataset = lgb.Dataset(X_train, label=y_train)\n",
    "\n",
    "    params = {\n",
    "        'objective': 'regression',\n",
    "        'metric': 'rmse',\n",
    "        'boosting_type': 'gbdt',\n",
    "        'verbose': -1\n",
    "    }\n",
    "\n",
    "    model = lgb.train(params, train_dataset, num_boost_round=100)\n",
    "\n",
    "    predictions = model.predict(X_test)\n",
    "\n",
    "    df_copy.loc[df_copy[feature].isnull(), feature] = predictions\n",
    "\n",
    "    return df_copy\n",
    "# Change 0s and outliers i"
   ],
   "metadata": {
    "ExecuteTime": {
     "end_time": "2024-10-19T15:34:08.713304200Z",
     "start_time": "2024-10-19T15:34:08.701593700Z"
    },
    "id": "90a099e6880f9ed0"
   },
   "id": "90a099e6880f9ed0"
  },
  {
   "cell_type": "code",
   "execution_count": null,
   "outputs": [],
   "source": [
    "# Change 0s and outliers into NullValues\n",
    "Xtrain_v2['Age'] = Xtrain_v2['Age'].apply(lambda x: np.nan if x == 0 or x > 74 else x)"
   ],
   "metadata": {
    "ExecuteTime": {
     "end_time": "2024-10-19T15:34:09.054705100Z",
     "start_time": "2024-10-19T15:34:09.034657900Z"
    },
    "id": "92c32b0a3390361d"
   },
   "id": "92c32b0a3390361d"
  },
  {
   "cell_type": "code",
   "execution_count": null,
   "outputs": [],
   "source": [
    "# Change 0s and outliers into NullValues\n",
    "Xtest_v2['Age'] = Xtest_v2['Age'].apply(lambda x: np.nan if x == 0 or x > 74 else x)"
   ],
   "metadata": {
    "ExecuteTime": {
     "end_time": "2024-10-23T09:25:15.643226800Z",
     "start_time": "2024-10-23T09:25:15.634715400Z"
    },
    "id": "47acc6a8cd13c2b4"
   },
   "id": "47acc6a8cd13c2b4"
  },
  {
   "cell_type": "code",
   "execution_count": null,
   "outputs": [],
   "source": [
    "# Apply LightGBM Imputation\n",
    "Xtrain_v3 = lightgbm_imputation(Xtrain_v2, 'Age')\n",
    "# Round up floats\n",
    "Xtrain_v3['Age'] = Xtrain_v3[\"Age\"].apply(lambda x: round(x))"
   ],
   "metadata": {
    "ExecuteTime": {
     "end_time": "2024-10-19T15:34:10.007027100Z",
     "start_time": "2024-10-19T15:34:09.503979700Z"
    },
    "id": "99b2c676d734feb3"
   },
   "id": "99b2c676d734feb3"
  },
  {
   "cell_type": "code",
   "execution_count": null,
   "outputs": [],
   "source": [
    "# Apply LightGBM Imputation\n",
    "Xtest_v3 = lightgbm_imputation(Xtest_v2, 'Age')\n",
    "# Round up floats\n",
    "Xtest_v3['Age'] = Xtest_v3[\"Age\"].apply(lambda x: round(x))"
   ],
   "metadata": {
    "ExecuteTime": {
     "end_time": "2024-10-23T09:26:20.734200300Z",
     "start_time": "2024-10-23T09:26:20.575751Z"
    },
    "id": "9536c6236e1c9419"
   },
   "id": "9536c6236e1c9419"
  },
  {
   "cell_type": "markdown",
   "source": [
    "# Oversampling"
   ],
   "metadata": {
    "collapsed": false,
    "id": "84127a01a0000a60"
   },
   "id": "84127a01a0000a60"
  },
  {
   "cell_type": "code",
   "execution_count": null,
   "outputs": [],
   "source": [
    "# SMOTE Oversampling\n",
    "from imblearn.over_sampling import SMOTE"
   ],
   "metadata": {
    "ExecuteTime": {
     "end_time": "2024-10-19T15:34:13.921493700Z",
     "start_time": "2024-10-19T15:34:13.650308300Z"
    },
    "id": "45d77d0126d3097c"
   },
   "id": "45d77d0126d3097c"
  },
  {
   "cell_type": "code",
   "execution_count": null,
   "outputs": [],
   "source": [],
   "metadata": {
    "ExecuteTime": {
     "end_time": "2024-10-19T15:34:14.034052500Z",
     "start_time": "2024-10-19T15:34:14.023784500Z"
    },
    "id": "26bb85f5b690fff1"
   },
   "id": "26bb85f5b690fff1"
  },
  {
   "cell_type": "code",
   "execution_count": null,
   "outputs": [
    {
     "name": "stdout",
     "output_type": "stream",
     "text": [
      "Before SMOTE:  (12336, 107) (12336,)\n",
      "After Smote:  (23220, 107) (23220,)\n",
      "\n",
      "After SMOTE Label Distribution:  0    11610\n",
      "1    11610\n",
      "Name: FraudFound_P, dtype: int64\n"
     ]
    }
   ],
   "source": [
    "smote = SMOTE(random_state=0)\n",
    "X_train_over, y_train_over = smote.fit_resample(Xtrain_v3, y_train)\n",
    "\n",
    "print(\"Before SMOTE: \", Xtrain_v3.shape, y_train.shape)\n",
    "print(\"After Smote: \", X_train_over.shape, y_train_over.shape)\n",
    "print()\n",
    "print(\"After SMOTE Label Distribution: \", pd.Series(y_train_over).value_counts())"
   ],
   "metadata": {
    "ExecuteTime": {
     "end_time": "2024-10-19T15:34:14.512767100Z",
     "start_time": "2024-10-19T15:34:14.407155100Z"
    },
    "id": "27b7cf4c3a2fca06",
    "outputId": "5cae1c24-602a-4d97-acb3-231e97d9273f"
   },
   "id": "27b7cf4c3a2fca06"
  },
  {
   "cell_type": "markdown",
   "source": [
    "# Feature Selection - Boruta"
   ],
   "metadata": {
    "collapsed": false,
    "id": "e92c5f6b0f47a5f2"
   },
   "id": "e92c5f6b0f47a5f2"
  },
  {
   "cell_type": "code",
   "execution_count": null,
   "outputs": [],
   "source": [
    "from sklearn.ensemble import RandomForestClassifier"
   ],
   "metadata": {
    "ExecuteTime": {
     "end_time": "2024-10-19T15:34:16.242387200Z",
     "start_time": "2024-10-19T15:34:16.237601300Z"
    },
    "id": "d519a080ce930a8"
   },
   "id": "d519a080ce930a8"
  },
  {
   "cell_type": "code",
   "execution_count": null,
   "outputs": [
    {
     "data": {
      "text/plain": "RandomForestClassifier(random_state=42)",
      "text/html": "<style>#sk-container-id-1 {color: black;background-color: white;}#sk-container-id-1 pre{padding: 0;}#sk-container-id-1 div.sk-toggleable {background-color: white;}#sk-container-id-1 label.sk-toggleable__label {cursor: pointer;display: block;width: 100%;margin-bottom: 0;padding: 0.3em;box-sizing: border-box;text-align: center;}#sk-container-id-1 label.sk-toggleable__label-arrow:before {content: \"▸\";float: left;margin-right: 0.25em;color: #696969;}#sk-container-id-1 label.sk-toggleable__label-arrow:hover:before {color: black;}#sk-container-id-1 div.sk-estimator:hover label.sk-toggleable__label-arrow:before {color: black;}#sk-container-id-1 div.sk-toggleable__content {max-height: 0;max-width: 0;overflow: hidden;text-align: left;background-color: #f0f8ff;}#sk-container-id-1 div.sk-toggleable__content pre {margin: 0.2em;color: black;border-radius: 0.25em;background-color: #f0f8ff;}#sk-container-id-1 input.sk-toggleable__control:checked~div.sk-toggleable__content {max-height: 200px;max-width: 100%;overflow: auto;}#sk-container-id-1 input.sk-toggleable__control:checked~label.sk-toggleable__label-arrow:before {content: \"▾\";}#sk-container-id-1 div.sk-estimator input.sk-toggleable__control:checked~label.sk-toggleable__label {background-color: #d4ebff;}#sk-container-id-1 div.sk-label input.sk-toggleable__control:checked~label.sk-toggleable__label {background-color: #d4ebff;}#sk-container-id-1 input.sk-hidden--visually {border: 0;clip: rect(1px 1px 1px 1px);clip: rect(1px, 1px, 1px, 1px);height: 1px;margin: -1px;overflow: hidden;padding: 0;position: absolute;width: 1px;}#sk-container-id-1 div.sk-estimator {font-family: monospace;background-color: #f0f8ff;border: 1px dotted black;border-radius: 0.25em;box-sizing: border-box;margin-bottom: 0.5em;}#sk-container-id-1 div.sk-estimator:hover {background-color: #d4ebff;}#sk-container-id-1 div.sk-parallel-item::after {content: \"\";width: 100%;border-bottom: 1px solid gray;flex-grow: 1;}#sk-container-id-1 div.sk-label:hover label.sk-toggleable__label {background-color: #d4ebff;}#sk-container-id-1 div.sk-serial::before {content: \"\";position: absolute;border-left: 1px solid gray;box-sizing: border-box;top: 0;bottom: 0;left: 50%;z-index: 0;}#sk-container-id-1 div.sk-serial {display: flex;flex-direction: column;align-items: center;background-color: white;padding-right: 0.2em;padding-left: 0.2em;position: relative;}#sk-container-id-1 div.sk-item {position: relative;z-index: 1;}#sk-container-id-1 div.sk-parallel {display: flex;align-items: stretch;justify-content: center;background-color: white;position: relative;}#sk-container-id-1 div.sk-item::before, #sk-container-id-1 div.sk-parallel-item::before {content: \"\";position: absolute;border-left: 1px solid gray;box-sizing: border-box;top: 0;bottom: 0;left: 50%;z-index: -1;}#sk-container-id-1 div.sk-parallel-item {display: flex;flex-direction: column;z-index: 1;position: relative;background-color: white;}#sk-container-id-1 div.sk-parallel-item:first-child::after {align-self: flex-end;width: 50%;}#sk-container-id-1 div.sk-parallel-item:last-child::after {align-self: flex-start;width: 50%;}#sk-container-id-1 div.sk-parallel-item:only-child::after {width: 0;}#sk-container-id-1 div.sk-dashed-wrapped {border: 1px dashed gray;margin: 0 0.4em 0.5em 0.4em;box-sizing: border-box;padding-bottom: 0.4em;background-color: white;}#sk-container-id-1 div.sk-label label {font-family: monospace;font-weight: bold;display: inline-block;line-height: 1.2em;}#sk-container-id-1 div.sk-label-container {text-align: center;}#sk-container-id-1 div.sk-container {/* jupyter's `normalize.less` sets `[hidden] { display: none; }` but bootstrap.min.css set `[hidden] { display: none !important; }` so we also need the `!important` here to be able to override the default hidden behavior on the sphinx rendered scikit-learn.org. See: https://github.com/scikit-learn/scikit-learn/issues/21755 */display: inline-block !important;position: relative;}#sk-container-id-1 div.sk-text-repr-fallback {display: none;}</style><div id=\"sk-container-id-1\" class=\"sk-top-container\"><div class=\"sk-text-repr-fallback\"><pre>RandomForestClassifier(random_state=42)</pre><b>In a Jupyter environment, please rerun this cell to show the HTML representation or trust the notebook. <br />On GitHub, the HTML representation is unable to render, please try loading this page with nbviewer.org.</b></div><div class=\"sk-container\" hidden><div class=\"sk-item\"><div class=\"sk-estimator sk-toggleable\"><input class=\"sk-toggleable__control sk-hidden--visually\" id=\"sk-estimator-id-1\" type=\"checkbox\" checked><label for=\"sk-estimator-id-1\" class=\"sk-toggleable__label sk-toggleable__label-arrow\">RandomForestClassifier</label><div class=\"sk-toggleable__content\"><pre>RandomForestClassifier(random_state=42)</pre></div></div></div></div></div>"
     },
     "execution_count": 30,
     "metadata": {},
     "output_type": "execute_result"
    }
   ],
   "source": [
    "# Use a Random Forest model as the base\n",
    "rf = RandomForestClassifier(n_estimators=100, random_state=42)\n",
    "rf.fit(X_train_over, y_train_over)"
   ],
   "metadata": {
    "ExecuteTime": {
     "end_time": "2024-10-19T15:34:19.700890800Z",
     "start_time": "2024-10-19T15:34:16.603497200Z"
    },
    "id": "ef2fd7ea213c2269",
    "outputId": "07e12b71-b0a8-4d72-ed34-407ecb85b127"
   },
   "id": "ef2fd7ea213c2269"
  },
  {
   "cell_type": "code",
   "execution_count": null,
   "outputs": [],
   "source": [
    "#pip install BorutaShap"
   ],
   "metadata": {
    "ExecuteTime": {
     "end_time": "2024-10-19T15:34:19.702978700Z",
     "start_time": "2024-10-19T15:34:19.697026800Z"
    },
    "id": "67b93feb5d3cbaef"
   },
   "id": "67b93feb5d3cbaef"
  },
  {
   "cell_type": "code",
   "execution_count": null,
   "outputs": [],
   "source": [
    "from BorutaShap import BorutaShap"
   ],
   "metadata": {
    "ExecuteTime": {
     "end_time": "2024-10-19T15:34:45.170452200Z",
     "start_time": "2024-10-19T15:34:45.164248Z"
    },
    "id": "d2a2ec777763a26d"
   },
   "id": "d2a2ec777763a26d"
  },
  {
   "cell_type": "code",
   "execution_count": null,
   "outputs": [
    {
     "data": {
      "text/plain": "  0%|          | 0/50 [00:00<?, ?it/s]",
      "application/vnd.jupyter.widget-view+json": {
       "version_major": 2,
       "version_minor": 0,
       "model_id": "660a46da384443c3b5041011f38c1cc0"
      }
     },
     "metadata": {},
     "output_type": "display_data"
    },
    {
     "name": "stdout",
     "output_type": "stream",
     "text": [
      "54 attributes confirmed important: ['PastNumberOfClaims_1', 'NumberOfSuppliments_1 to 2', 'MonthClaimed_May', 'Fault', 'RepNumber_14', 'BasePolicy', 'NumberOfSuppliments_3 to 5', 'PastNumberOfClaims_2 to 4', 'PolicyType_Sedan - Collision', 'MonthClaimed_Jan', 'MonthClaimed_Mar', 'Make_Chevrolet', 'MaritalStatus_Single', 'RepNumber_16', 'RepNumber_8', 'MonthClaimed_Jun', 'NumberOfSuppliments_none', 'RepNumber_11', 'RepNumber_2', 'RepNumber_9', 'MonthClaimed_Dec', 'VehicleCategory_Sport', 'Year_1994', 'Make_Toyota', 'Age', 'Make_Pontiac', 'MonthClaimed_Aug', 'MonthClaimed_Feb', 'Year_1995', 'RepNumber_15', 'MonthClaimed_Sep', 'RepNumber_5', 'AddressChange_Claim_2 to 3 years', 'Make_Mazda', 'Year_1996', 'MonthClaimed_Nov', 'RepNumber_1', 'MaritalStatus_Married', 'RepNumber_13', 'PolicyType_Sedan - Liability', 'RepNumber_4', 'NumberOfSuppliments_more than 5', 'DriverRating', 'RepNumber_7', 'RepNumber_10', 'RepNumber_3', 'PastNumberOfClaims_none', 'Make_Honda', 'PastNumberOfClaims_more than 4', 'RepNumber_6', 'RepNumber_12', 'MonthClaimed_Jul', 'MonthClaimed_Oct', 'MonthClaimed_Apr']\n",
      "53 attributes confirmed unimportant: ['AgeOfPolicyHolder_36 to 40', 'AddressChange_Claim_no change', 'Days_Policy_Accident_8 to 15', 'PolicyType_Utility - All Perils', 'Days_Policy_Claim_8 to 15', 'AddressChange_Claim_4 to 8 years', 'AgeOfPolicyHolder_26 to 30', 'PolicyType_Utility - Collision', 'Days_Policy_Accident_15 to 30', 'Days_Policy_Claim_more than 30', 'Make_Nisson', 'Make_Accura', 'Make_VW', 'PolicyType_Sport - Collision', 'Days_Policy_Claim_15 to 30', 'Days_Policy_Accident_1 to 7', 'Sex', 'AgeOfPolicyHolder_51 to 65', 'PolicyType_Utility - Liability', 'MaritalStatus_Widow', 'VehicleCategory_Sedan', 'AgentType', 'WitnessPresent', 'VehicleCategory_Utility', 'Days_Policy_Accident_more than 30', 'PolicyType_Sport - All Perils', 'NumberOfCars_2 vehicles', 'NumberOfCars_5 to 8', 'AgeOfPolicyHolder_18 to 20', 'AgeOfVehicle', 'Deductible_700', 'PolicyType_Sedan - All Perils', 'NumberOfCars_3 to 4', 'MaritalStatus_Divorced', 'Deductible_400', 'AgeOfPolicyHolder_over 65', 'Make_Ford', 'Make_Saturn', 'AgeOfPolicyHolder_21 to 25', 'AddressChange_Claim_1 year', 'Deductible_500', 'Make_BMW', 'AgeOfPolicyHolder_31 to 35', 'AgeOfPolicyHolder_16 to 17', 'Days_Policy_Accident_none', 'NumberOfCars_1 vehicle', 'PoliceReportFiled', 'Make_Mercury', 'Make_Dodge', 'AccidentArea', 'AgeOfPolicyHolder_41 to 50', 'Make_Saab', 'VehiclePrice']\n",
      "0 tentative attributes remains: []\n"
     ]
    }
   ],
   "source": [
    "import xgboost as xgb\n",
    "\n",
    "# Create an XGBoost model with GPU support\n",
    "xgboost_model = xgb.XGBClassifier(tree_method='gpu_hist', predictor='gpu_predictor', use_label_encoder=False, eval_metric='logloss')\n",
    "\n",
    "# Apply BorutaShap using XGBoost\n",
    "feat_selector = BorutaShap(model=xgboost_model, importance_measure='shap', classification=True)\n",
    "\n",
    "# Fit BorutaShap (with sampling to speed it up)\n",
    "feat_selector.fit(X=X_train_over, y=y_train_over, n_trials=50, sample=0.1, train_or_test='train', normalize=True)"
   ],
   "metadata": {
    "ExecuteTime": {
     "end_time": "2024-10-19T15:36:28.758660200Z",
     "start_time": "2024-10-19T15:35:29.368547Z"
    },
    "colab": {
     "referenced_widgets": [
      "660a46da384443c3b5041011f38c1cc0"
     ]
    },
    "id": "9703367005676fdb",
    "outputId": "90d0d769-1870-45f1-8cf3-a73c15fa98cc"
   },
   "id": "9703367005676fdb"
  },
  {
   "cell_type": "code",
   "execution_count": null,
   "outputs": [],
   "source": [
    "# Get the selected features\n",
    "selected_features = feat_selector.accepted"
   ],
   "metadata": {
    "ExecuteTime": {
     "end_time": "2024-10-22T09:11:38.178087600Z",
     "start_time": "2024-10-22T09:11:38.174152500Z"
    },
    "id": "15fc5f7c5c8fafaf"
   },
   "id": "15fc5f7c5c8fafaf"
  },
  {
   "cell_type": "code",
   "execution_count": 1,
   "outputs": [
    {
     "ename": "NameError",
     "evalue": "name 'selected_features' is not defined",
     "output_type": "error",
     "traceback": [
      "\u001B[1;31m---------------------------------------------------------------------------\u001B[0m",
      "\u001B[1;31mNameError\u001B[0m                                 Traceback (most recent call last)",
      "Cell \u001B[1;32mIn[1], line 1\u001B[0m\n\u001B[1;32m----> 1\u001B[0m selected_features\n",
      "\u001B[1;31mNameError\u001B[0m: name 'selected_features' is not defined"
     ]
    }
   ],
   "source": [
    "selected_features"
   ],
   "metadata": {
    "collapsed": false,
    "ExecuteTime": {
     "end_time": "2024-11-08T15:48:07.115207400Z",
     "start_time": "2024-11-08T15:48:06.381608700Z"
    }
   },
   "id": "40fd1cf9f1cb792d"
  },
  {
   "cell_type": "code",
   "execution_count": null,
   "outputs": [],
   "source": [
    "# Filter the training set to keep only the selected features\n",
    "# Use 'loc' to filter your training set with selected feature names\n",
    "X_train_selected = X_train_over[selected_features]"
   ],
   "metadata": {
    "ExecuteTime": {
     "end_time": "2024-10-22T09:11:40.053886400Z",
     "start_time": "2024-10-22T09:11:40.038619700Z"
    },
    "id": "76506ac7ac5b79f4"
   },
   "id": "76506ac7ac5b79f4"
  },
  {
   "cell_type": "code",
   "execution_count": null,
   "outputs": [],
   "source": [
    "x_test_selected= Xtest_v3[selected_features]"
   ],
   "metadata": {
    "ExecuteTime": {
     "end_time": "2024-10-23T09:27:07.303912Z",
     "start_time": "2024-10-23T09:27:07.291013900Z"
    },
    "id": "5107c6d34004eb02"
   },
   "id": "5107c6d34004eb02"
  },
  {
   "cell_type": "markdown",
   "source": [
    "# Modelling"
   ],
   "metadata": {
    "collapsed": false,
    "id": "1093f734bb123e9"
   },
   "id": "1093f734bb123e9"
  },
  {
   "cell_type": "code",
   "execution_count": null,
   "outputs": [],
   "source": [
    "# Machine Learning - Preparation\n",
    "\n",
    "# Machine Learning - Algorithm\n",
    "from sklearn.linear_model import LogisticRegression\n",
    "from sklearn.svm import SVC\n",
    "from sklearn.ensemble import RandomForestClassifier\n",
    "import lightgbm as lgb\n",
    "from catboost import CatBoostClassifier\n",
    "# Machine Learning - Optuna\n",
    "import optuna\n",
    "from optuna.samplers import TPESampler\n"
   ],
   "metadata": {
    "ExecuteTime": {
     "end_time": "2024-10-19T17:40:44.692475600Z",
     "start_time": "2024-10-19T17:40:43.725232500Z"
    },
    "id": "ec0dcc157005b09d"
   },
   "id": "ec0dcc157005b09d"
  },
  {
   "cell_type": "code",
   "execution_count": null,
   "outputs": [],
   "source": [
    "# Function04: Objective\n",
    "from sklearn.model_selection import StratifiedKFold\n",
    "from sklearn.metrics import f1_score, roc_auc_score\n",
    "\n",
    "def objective(trial):\n",
    "    classifier_name = trial.suggest_categorical('classifier', [\n",
    "        'LogisticRegression', 'SVM', 'RandomForest', 'LightGBM', 'CatBoost'\n",
    "    ])\n",
    "\n",
    "    if classifier_name == 'LogisticRegression':\n",
    "        C = trial.suggest_float('lr_C', 0.1, 10)\n",
    "        solver = trial.suggest_categorical('lr_solver', ['liblinear'])\n",
    "        classifier_obj = LogisticRegression(C=C, solver=solver)\n",
    "\n",
    "    elif classifier_name == 'SVM':\n",
    "        C = trial.suggest_float('svm_C', 0.1, 10)\n",
    "        kernel = trial.suggest_categorical('svm_kernel', ['linear', 'rbf'])\n",
    "        classifier_obj = SVC(C=C, kernel=kernel, probability=True)\n",
    "\n",
    "    elif classifier_name == 'RandomForest':\n",
    "        n_estimators = trial.suggest_int('rf_n_estimators', 10, 100)\n",
    "        max_depth = trial.suggest_categorical('rf_max_depth', [10, 20, None])\n",
    "        classifier_obj = RandomForestClassifier(n_estimators=n_estimators, max_depth=max_depth)\n",
    "\n",
    "    elif classifier_name == 'LightGBM':\n",
    "        num_leaves = trial.suggest_int('lgb_num_leaves', 31, 50)\n",
    "        learning_rate = trial.suggest_float('lgb_learning_rate', 0.01, 0.2)\n",
    "        n_estimators = trial.suggest_int('lgb_n_estimators', 100, 200)\n",
    "        classifier_obj = lgb.LGBMClassifier(num_leaves=num_leaves, learning_rate=learning_rate, n_estimators=n_estimators, verbose=-1)\n",
    "\n",
    "    elif classifier_name == 'CatBoost':\n",
    "        iterations = trial.suggest_int('cat_iterations', 100, 200)\n",
    "        learning_rate = trial.suggest_float('cat_learning_rate', 0.01, 0.2)\n",
    "        depth = trial.suggest_int('cat_depth', 3, 9)\n",
    "        classifier_obj = CatBoostClassifier(iterations=iterations, learning_rate=learning_rate, depth=depth, verbose=0)\n",
    "\n",
    "    # Cross-validation setup\n",
    "    skf = StratifiedKFold(n_splits=5, shuffle=True, random_state=42)\n",
    "\n",
    "    f1_scores = []\n",
    "    roc_auc_scores = []\n",
    "\n",
    "    for train_index, valid_index in skf.split(X_train_selected, y_train_over):\n",
    "        X_train_cv, X_valid_cv = X_train_selected.iloc[train_index], X_train_selected.iloc[valid_index]\n",
    "        y_train_cv, y_valid_cv = y_train_over.iloc[train_index], y_train_over.iloc[valid_index]\n",
    "\n",
    "\n",
    "        classifier_obj.fit(X_train_cv, y_train_cv)\n",
    "        y_prob = classifier_obj.predict_proba(X_valid_cv)[:, 1]\n",
    "\n",
    "        # Threshold optimization on validation set\n",
    "        thresholds = np.arange(0.1, 0.9, 0.01)\n",
    "        best_threshold = 0.5\n",
    "        best_score = 0.0\n",
    "\n",
    "        for threshold in thresholds:\n",
    "            y_pred = (y_prob >= threshold).astype(int)\n",
    "            score = f1_score(y_valid_cv, y_pred)\n",
    "            if score > best_score:\n",
    "                best_score = score\n",
    "                best_threshold = threshold\n",
    "\n",
    "        # Record the best scores\n",
    "        f1_scores.append(best_score)\n",
    "        roc_auc_scores.append(roc_auc_score(y_valid_cv, (y_prob >= best_threshold).astype(int)))\n",
    "\n",
    "    # Store the best threshold for this trial\n",
    "    trial.set_user_attr('best_threshold', best_threshold)\n",
    "    trial.set_user_attr('classifier_obj', classifier_obj)\n",
    "\n",
    "    return np.mean(roc_auc_scores)  # Return the mean ROC AUC score from cross-validation\n"
   ],
   "metadata": {
    "ExecuteTime": {
     "end_time": "2024-10-22T09:26:17.173037800Z",
     "start_time": "2024-10-22T09:26:17.151316600Z"
    },
    "id": "12a24019c055acbb"
   },
   "id": "12a24019c055acbb"
  },
  {
   "cell_type": "code",
   "execution_count": null,
   "outputs": [],
   "source": [
    "optuna.logging.set_verbosity(optuna.logging.WARNING)"
   ],
   "metadata": {
    "ExecuteTime": {
     "end_time": "2024-10-22T09:26:17.680290400Z",
     "start_time": "2024-10-22T09:26:17.650162500Z"
    },
    "id": "262bc4394cae57d7"
   },
   "id": "262bc4394cae57d7"
  },
  {
   "cell_type": "code",
   "execution_count": null,
   "outputs": [],
   "source": [
    "# Optuna Study\n",
    "study = optuna.create_study(direction='maximize', sampler=TPESampler())\n",
    "study.optimize(objective, n_trials=100)"
   ],
   "metadata": {
    "ExecuteTime": {
     "end_time": "2024-10-23T07:33:52.285101100Z",
     "start_time": "2024-10-23T07:33:52.254561700Z"
    },
    "id": "2f10dc43e4a78027"
   },
   "id": "2f10dc43e4a78027"
  },
  {
   "cell_type": "code",
   "source": [
    "best_trial = study.best_trial\n",
    "print('Best trial: ', best_trial.values)\n",
    "print('Best hyperparameters: ', best_trial.params)"
   ],
   "metadata": {
    "colab": {
     "base_uri": "https://localhost:8080/"
    },
    "id": "9i3aR381pgCt",
    "outputId": "a41e16e1-8cf7-4476-e7ca-2ff813271f18"
   },
   "execution_count": null,
   "outputs": [
    {
     "output_type": "stream",
     "name": "stdout",
     "text": [
      "Best trial:  [0.9715331610680448]\n",
      "Best hyperparameters:  {'classifier': 'RandomForest', 'rf_n_estimators': 81, 'rf_max_depth': None}\n"
     ]
    }
   ],
   "id": "9i3aR381pgCt"
  },
  {
   "cell_type": "code",
   "source": [
    "# Optimized Alogrithm Combination\n",
    "best_algorithms = [trial.params['classifier'] for trial in study.trials]\n",
    "algorithm_counts = pd.Series(best_algorithms).value_counts()\n",
    "print('Optimal algorithm proportions: ', algorithm_counts)"
   ],
   "metadata": {
    "colab": {
     "base_uri": "https://localhost:8080/"
    },
    "id": "dpuDmHLkpyrl",
    "outputId": "df543258-9266-4bb8-b299-1618ee956e07"
   },
   "execution_count": null,
   "outputs": [
    {
     "output_type": "stream",
     "name": "stdout",
     "text": [
      "Optimal algorithm proportions:  RandomForest          68\n",
      "CatBoost               9\n",
      "LogisticRegression     8\n",
      "SVM                    8\n",
      "LightGBM               7\n",
      "Name: count, dtype: int64\n"
     ]
    }
   ],
   "id": "dpuDmHLkpyrl"
  },
  {
   "cell_type": "markdown",
   "source": [
    "# Evaluation\n"
   ],
   "metadata": {
    "id": "GsqNxhb74mJU"
   },
   "id": "GsqNxhb74mJU"
  },
  {
   "cell_type": "code",
   "source": [
    "# Function05: Evaluation\n",
    "def evaluate_model(model, X_train_selected, y_train_over, X_test_selected, y_test, threshold):\n",
    "    model.fit(X_train_selected, y_train_over)\n",
    "    y_prob = model.predict_proba(X_test_selected)[:, 1]\n",
    "    y_pred = (y_prob >= threshold).astype(int)\n",
    "\n",
    "    accuracy = accuracy_score(y_test, y_pred)\n",
    "    precision = precision_score(y_test, y_pred)\n",
    "    recall = recall_score(y_test, y_pred)\n",
    "    f1 = f1_score(y_test, y_pred)\n",
    "    roc_auc = roc_auc_score(y_test, y_prob)\n",
    "\n",
    "    return accuracy, precision, recall, f1, roc_auc\n"
   ],
   "metadata": {
    "id": "T4-4iLuEqBmq"
   },
   "execution_count": null,
   "outputs": [],
   "id": "T4-4iLuEqBmq"
  },
  {
   "cell_type": "code",
   "source": [
    "top_5_trials = study.trials_dataframe().sort_values(by='value', ascending=False).head(5)\n",
    "results = []\n",
    "\n",
    "for i, row in top_5_trials.iterrows():\n",
    "    model_name = row['params_classifier']\n",
    "    threshold = study.trials[row['number']].user_attrs['best_threshold']\n",
    "    model_params = study.trials[row['number']].params\n",
    "\n",
    "    if model_name == 'LogisticRegression':\n",
    "        params = {'C': model_params['lr_C'], 'solver': model_params['lr_solver']}\n",
    "        final_model = LogisticRegression(**params)\n",
    "    elif model_name == 'SVM':\n",
    "        params = {'C': model_params['svm_C'], 'kernel': model_params['svm_kernel']}\n",
    "        final_model = SVC(**params, probability=True)\n",
    "    elif model_name == 'RandomForest':\n",
    "        params = {'n_estimators': model_params['rf_n_estimators'], 'max_depth': model_params['rf_max_depth']}\n",
    "        final_model = RandomForestClassifier(**params)\n",
    "    elif model_name == 'LightGBM':\n",
    "        params = {'num_leaves': model_params['lgb_num_leaves'], 'learning_rate': model_params['lgb_learning_rate'], 'n_estimators': model_params['lgb_n_estimators']}\n",
    "        final_model = lgb.LGBMClassifier(**params, verbose=-1)\n",
    "    elif model_name == 'CatBoost':\n",
    "        params = {'iterations': model_params['cat_iterations'], 'learning_rate': model_params['cat_learning_rate'], 'depth': model_params['cat_depth']}\n",
    "        final_model = CatBoostClassifier(**params, verbose=0)\n",
    "\n",
    "    accuracy, precision, recall, f1, roc_auc = evaluate_model(final_model, X_train_selected,y_train_over, X_test_selected, y_test, threshold)\n",
    "\n",
    "    results.append({\n",
    "        'model': model_name,\n",
    "        'accuracy': accuracy,\n",
    "        'precision': precision,\n",
    "        'recall': recall,\n",
    "        'f1_score': f1,\n",
    "        'roc_auc': roc_auc,\n",
    "        'best_params': params,\n",
    "        'best_threshold': threshold\n",
    "    })\n",
    "\n",
    "results_df = pd.DataFrame(results)"
   ],
   "metadata": {
    "colab": {
     "base_uri": "https://localhost:8080/"
    },
    "id": "OFJS1NiKp7GM",
    "outputId": "22172ff6-a3cd-4951-f558-ce17e50e6be8"
   },
   "execution_count": null,
   "outputs": [
    {
     "output_type": "stream",
     "name": "stderr",
     "text": [
      "/usr/local/lib/python3.10/dist-packages/sklearn/base.py:1473: DataConversionWarning: A column-vector y was passed when a 1d array was expected. Please change the shape of y to (n_samples,), for example using ravel().\n",
      "  return fit_method(estimator, *args, **kwargs)\n",
      "/usr/local/lib/python3.10/dist-packages/sklearn/base.py:1473: DataConversionWarning: A column-vector y was passed when a 1d array was expected. Please change the shape of y to (n_samples,), for example using ravel().\n",
      "  return fit_method(estimator, *args, **kwargs)\n",
      "/usr/local/lib/python3.10/dist-packages/sklearn/base.py:1473: DataConversionWarning: A column-vector y was passed when a 1d array was expected. Please change the shape of y to (n_samples,), for example using ravel().\n",
      "  return fit_method(estimator, *args, **kwargs)\n",
      "/usr/local/lib/python3.10/dist-packages/sklearn/base.py:1473: DataConversionWarning: A column-vector y was passed when a 1d array was expected. Please change the shape of y to (n_samples,), for example using ravel().\n",
      "  return fit_method(estimator, *args, **kwargs)\n",
      "/usr/local/lib/python3.10/dist-packages/sklearn/base.py:1473: DataConversionWarning: A column-vector y was passed when a 1d array was expected. Please change the shape of y to (n_samples,), for example using ravel().\n",
      "  return fit_method(estimator, *args, **kwargs)\n"
     ]
    }
   ],
   "id": "OFJS1NiKp7GM"
  },
  {
   "cell_type": "code",
   "source": [
    "results_df"
   ],
   "metadata": {
    "colab": {
     "base_uri": "https://localhost:8080/",
     "height": 206
    },
    "id": "T5hGKiQa0KfG",
    "outputId": "dcf6372d-f156-4316-fb03-fb45c8c0f4b6"
   },
   "execution_count": null,
   "outputs": [
    {
     "output_type": "execute_result",
     "data": {
      "text/plain": [
       "          model  accuracy  precision    recall  f1_score   roc_auc  \\\n",
       "0  RandomForest  0.929637   0.250000  0.050761  0.084388  0.821092   \n",
       "1  RandomForest  0.931258   0.258065  0.040609  0.070175  0.821104   \n",
       "2  RandomForest  0.932555   0.333333  0.055838  0.095652  0.825572   \n",
       "3  RandomForest  0.932231   0.312500  0.050761  0.087336  0.819483   \n",
       "4  RandomForest  0.934501   0.380952  0.040609  0.073394  0.830279   \n",
       "\n",
       "                               best_params  best_threshold  \n",
       "0  {'n_estimators': 81, 'max_depth': None}            0.50  \n",
       "1  {'n_estimators': 72, 'max_depth': None}            0.49  \n",
       "2  {'n_estimators': 91, 'max_depth': None}            0.48  \n",
       "3  {'n_estimators': 81, 'max_depth': None}            0.50  \n",
       "4  {'n_estimators': 80, 'max_depth': None}            0.53  "
      ],
      "text/html": [
       "\n",
       "  <div id=\"df-b12af410-794b-4a2e-ae07-4bc6c2b46287\" class=\"colab-df-container\">\n",
       "    <div>\n",
       "<style scoped>\n",
       "    .dataframe tbody tr th:only-of-type {\n",
       "        vertical-align: middle;\n",
       "    }\n",
       "\n",
       "    .dataframe tbody tr th {\n",
       "        vertical-align: top;\n",
       "    }\n",
       "\n",
       "    .dataframe thead th {\n",
       "        text-align: right;\n",
       "    }\n",
       "</style>\n",
       "<table border=\"1\" class=\"dataframe\">\n",
       "  <thead>\n",
       "    <tr style=\"text-align: right;\">\n",
       "      <th></th>\n",
       "      <th>model</th>\n",
       "      <th>accuracy</th>\n",
       "      <th>precision</th>\n",
       "      <th>recall</th>\n",
       "      <th>f1_score</th>\n",
       "      <th>roc_auc</th>\n",
       "      <th>best_params</th>\n",
       "      <th>best_threshold</th>\n",
       "    </tr>\n",
       "  </thead>\n",
       "  <tbody>\n",
       "    <tr>\n",
       "      <th>0</th>\n",
       "      <td>RandomForest</td>\n",
       "      <td>0.929637</td>\n",
       "      <td>0.250000</td>\n",
       "      <td>0.050761</td>\n",
       "      <td>0.084388</td>\n",
       "      <td>0.821092</td>\n",
       "      <td>{'n_estimators': 81, 'max_depth': None}</td>\n",
       "      <td>0.50</td>\n",
       "    </tr>\n",
       "    <tr>\n",
       "      <th>1</th>\n",
       "      <td>RandomForest</td>\n",
       "      <td>0.931258</td>\n",
       "      <td>0.258065</td>\n",
       "      <td>0.040609</td>\n",
       "      <td>0.070175</td>\n",
       "      <td>0.821104</td>\n",
       "      <td>{'n_estimators': 72, 'max_depth': None}</td>\n",
       "      <td>0.49</td>\n",
       "    </tr>\n",
       "    <tr>\n",
       "      <th>2</th>\n",
       "      <td>RandomForest</td>\n",
       "      <td>0.932555</td>\n",
       "      <td>0.333333</td>\n",
       "      <td>0.055838</td>\n",
       "      <td>0.095652</td>\n",
       "      <td>0.825572</td>\n",
       "      <td>{'n_estimators': 91, 'max_depth': None}</td>\n",
       "      <td>0.48</td>\n",
       "    </tr>\n",
       "    <tr>\n",
       "      <th>3</th>\n",
       "      <td>RandomForest</td>\n",
       "      <td>0.932231</td>\n",
       "      <td>0.312500</td>\n",
       "      <td>0.050761</td>\n",
       "      <td>0.087336</td>\n",
       "      <td>0.819483</td>\n",
       "      <td>{'n_estimators': 81, 'max_depth': None}</td>\n",
       "      <td>0.50</td>\n",
       "    </tr>\n",
       "    <tr>\n",
       "      <th>4</th>\n",
       "      <td>RandomForest</td>\n",
       "      <td>0.934501</td>\n",
       "      <td>0.380952</td>\n",
       "      <td>0.040609</td>\n",
       "      <td>0.073394</td>\n",
       "      <td>0.830279</td>\n",
       "      <td>{'n_estimators': 80, 'max_depth': None}</td>\n",
       "      <td>0.53</td>\n",
       "    </tr>\n",
       "  </tbody>\n",
       "</table>\n",
       "</div>\n",
       "    <div class=\"colab-df-buttons\">\n",
       "\n",
       "  <div class=\"colab-df-container\">\n",
       "    <button class=\"colab-df-convert\" onclick=\"convertToInteractive('df-b12af410-794b-4a2e-ae07-4bc6c2b46287')\"\n",
       "            title=\"Convert this dataframe to an interactive table.\"\n",
       "            style=\"display:none;\">\n",
       "\n",
       "  <svg xmlns=\"http://www.w3.org/2000/svg\" height=\"24px\" viewBox=\"0 -960 960 960\">\n",
       "    <path d=\"M120-120v-720h720v720H120Zm60-500h600v-160H180v160Zm220 220h160v-160H400v160Zm0 220h160v-160H400v160ZM180-400h160v-160H180v160Zm440 0h160v-160H620v160ZM180-180h160v-160H180v160Zm440 0h160v-160H620v160Z\"/>\n",
       "  </svg>\n",
       "    </button>\n",
       "\n",
       "  <style>\n",
       "    .colab-df-container {\n",
       "      display:flex;\n",
       "      gap: 12px;\n",
       "    }\n",
       "\n",
       "    .colab-df-convert {\n",
       "      background-color: #E8F0FE;\n",
       "      border: none;\n",
       "      border-radius: 50%;\n",
       "      cursor: pointer;\n",
       "      display: none;\n",
       "      fill: #1967D2;\n",
       "      height: 32px;\n",
       "      padding: 0 0 0 0;\n",
       "      width: 32px;\n",
       "    }\n",
       "\n",
       "    .colab-df-convert:hover {\n",
       "      background-color: #E2EBFA;\n",
       "      box-shadow: 0px 1px 2px rgba(60, 64, 67, 0.3), 0px 1px 3px 1px rgba(60, 64, 67, 0.15);\n",
       "      fill: #174EA6;\n",
       "    }\n",
       "\n",
       "    .colab-df-buttons div {\n",
       "      margin-bottom: 4px;\n",
       "    }\n",
       "\n",
       "    [theme=dark] .colab-df-convert {\n",
       "      background-color: #3B4455;\n",
       "      fill: #D2E3FC;\n",
       "    }\n",
       "\n",
       "    [theme=dark] .colab-df-convert:hover {\n",
       "      background-color: #434B5C;\n",
       "      box-shadow: 0px 1px 3px 1px rgba(0, 0, 0, 0.15);\n",
       "      filter: drop-shadow(0px 1px 2px rgba(0, 0, 0, 0.3));\n",
       "      fill: #FFFFFF;\n",
       "    }\n",
       "  </style>\n",
       "\n",
       "    <script>\n",
       "      const buttonEl =\n",
       "        document.querySelector('#df-b12af410-794b-4a2e-ae07-4bc6c2b46287 button.colab-df-convert');\n",
       "      buttonEl.style.display =\n",
       "        google.colab.kernel.accessAllowed ? 'block' : 'none';\n",
       "\n",
       "      async function convertToInteractive(key) {\n",
       "        const element = document.querySelector('#df-b12af410-794b-4a2e-ae07-4bc6c2b46287');\n",
       "        const dataTable =\n",
       "          await google.colab.kernel.invokeFunction('convertToInteractive',\n",
       "                                                    [key], {});\n",
       "        if (!dataTable) return;\n",
       "\n",
       "        const docLinkHtml = 'Like what you see? Visit the ' +\n",
       "          '<a target=\"_blank\" href=https://colab.research.google.com/notebooks/data_table.ipynb>data table notebook</a>'\n",
       "          + ' to learn more about interactive tables.';\n",
       "        element.innerHTML = '';\n",
       "        dataTable['output_type'] = 'display_data';\n",
       "        await google.colab.output.renderOutput(dataTable, element);\n",
       "        const docLink = document.createElement('div');\n",
       "        docLink.innerHTML = docLinkHtml;\n",
       "        element.appendChild(docLink);\n",
       "      }\n",
       "    </script>\n",
       "  </div>\n",
       "\n",
       "\n",
       "<div id=\"df-6e2c87ee-a543-4bee-a72d-f29b4e21d1fc\">\n",
       "  <button class=\"colab-df-quickchart\" onclick=\"quickchart('df-6e2c87ee-a543-4bee-a72d-f29b4e21d1fc')\"\n",
       "            title=\"Suggest charts\"\n",
       "            style=\"display:none;\">\n",
       "\n",
       "<svg xmlns=\"http://www.w3.org/2000/svg\" height=\"24px\"viewBox=\"0 0 24 24\"\n",
       "     width=\"24px\">\n",
       "    <g>\n",
       "        <path d=\"M19 3H5c-1.1 0-2 .9-2 2v14c0 1.1.9 2 2 2h14c1.1 0 2-.9 2-2V5c0-1.1-.9-2-2-2zM9 17H7v-7h2v7zm4 0h-2V7h2v10zm4 0h-2v-4h2v4z\"/>\n",
       "    </g>\n",
       "</svg>\n",
       "  </button>\n",
       "\n",
       "<style>\n",
       "  .colab-df-quickchart {\n",
       "      --bg-color: #E8F0FE;\n",
       "      --fill-color: #1967D2;\n",
       "      --hover-bg-color: #E2EBFA;\n",
       "      --hover-fill-color: #174EA6;\n",
       "      --disabled-fill-color: #AAA;\n",
       "      --disabled-bg-color: #DDD;\n",
       "  }\n",
       "\n",
       "  [theme=dark] .colab-df-quickchart {\n",
       "      --bg-color: #3B4455;\n",
       "      --fill-color: #D2E3FC;\n",
       "      --hover-bg-color: #434B5C;\n",
       "      --hover-fill-color: #FFFFFF;\n",
       "      --disabled-bg-color: #3B4455;\n",
       "      --disabled-fill-color: #666;\n",
       "  }\n",
       "\n",
       "  .colab-df-quickchart {\n",
       "    background-color: var(--bg-color);\n",
       "    border: none;\n",
       "    border-radius: 50%;\n",
       "    cursor: pointer;\n",
       "    display: none;\n",
       "    fill: var(--fill-color);\n",
       "    height: 32px;\n",
       "    padding: 0;\n",
       "    width: 32px;\n",
       "  }\n",
       "\n",
       "  .colab-df-quickchart:hover {\n",
       "    background-color: var(--hover-bg-color);\n",
       "    box-shadow: 0 1px 2px rgba(60, 64, 67, 0.3), 0 1px 3px 1px rgba(60, 64, 67, 0.15);\n",
       "    fill: var(--button-hover-fill-color);\n",
       "  }\n",
       "\n",
       "  .colab-df-quickchart-complete:disabled,\n",
       "  .colab-df-quickchart-complete:disabled:hover {\n",
       "    background-color: var(--disabled-bg-color);\n",
       "    fill: var(--disabled-fill-color);\n",
       "    box-shadow: none;\n",
       "  }\n",
       "\n",
       "  .colab-df-spinner {\n",
       "    border: 2px solid var(--fill-color);\n",
       "    border-color: transparent;\n",
       "    border-bottom-color: var(--fill-color);\n",
       "    animation:\n",
       "      spin 1s steps(1) infinite;\n",
       "  }\n",
       "\n",
       "  @keyframes spin {\n",
       "    0% {\n",
       "      border-color: transparent;\n",
       "      border-bottom-color: var(--fill-color);\n",
       "      border-left-color: var(--fill-color);\n",
       "    }\n",
       "    20% {\n",
       "      border-color: transparent;\n",
       "      border-left-color: var(--fill-color);\n",
       "      border-top-color: var(--fill-color);\n",
       "    }\n",
       "    30% {\n",
       "      border-color: transparent;\n",
       "      border-left-color: var(--fill-color);\n",
       "      border-top-color: var(--fill-color);\n",
       "      border-right-color: var(--fill-color);\n",
       "    }\n",
       "    40% {\n",
       "      border-color: transparent;\n",
       "      border-right-color: var(--fill-color);\n",
       "      border-top-color: var(--fill-color);\n",
       "    }\n",
       "    60% {\n",
       "      border-color: transparent;\n",
       "      border-right-color: var(--fill-color);\n",
       "    }\n",
       "    80% {\n",
       "      border-color: transparent;\n",
       "      border-right-color: var(--fill-color);\n",
       "      border-bottom-color: var(--fill-color);\n",
       "    }\n",
       "    90% {\n",
       "      border-color: transparent;\n",
       "      border-bottom-color: var(--fill-color);\n",
       "    }\n",
       "  }\n",
       "</style>\n",
       "\n",
       "  <script>\n",
       "    async function quickchart(key) {\n",
       "      const quickchartButtonEl =\n",
       "        document.querySelector('#' + key + ' button');\n",
       "      quickchartButtonEl.disabled = true;  // To prevent multiple clicks.\n",
       "      quickchartButtonEl.classList.add('colab-df-spinner');\n",
       "      try {\n",
       "        const charts = await google.colab.kernel.invokeFunction(\n",
       "            'suggestCharts', [key], {});\n",
       "      } catch (error) {\n",
       "        console.error('Error during call to suggestCharts:', error);\n",
       "      }\n",
       "      quickchartButtonEl.classList.remove('colab-df-spinner');\n",
       "      quickchartButtonEl.classList.add('colab-df-quickchart-complete');\n",
       "    }\n",
       "    (() => {\n",
       "      let quickchartButtonEl =\n",
       "        document.querySelector('#df-6e2c87ee-a543-4bee-a72d-f29b4e21d1fc button');\n",
       "      quickchartButtonEl.style.display =\n",
       "        google.colab.kernel.accessAllowed ? 'block' : 'none';\n",
       "    })();\n",
       "  </script>\n",
       "</div>\n",
       "\n",
       "  <div id=\"id_9904e510-d580-4392-a5fc-575a881ca0f4\">\n",
       "    <style>\n",
       "      .colab-df-generate {\n",
       "        background-color: #E8F0FE;\n",
       "        border: none;\n",
       "        border-radius: 50%;\n",
       "        cursor: pointer;\n",
       "        display: none;\n",
       "        fill: #1967D2;\n",
       "        height: 32px;\n",
       "        padding: 0 0 0 0;\n",
       "        width: 32px;\n",
       "      }\n",
       "\n",
       "      .colab-df-generate:hover {\n",
       "        background-color: #E2EBFA;\n",
       "        box-shadow: 0px 1px 2px rgba(60, 64, 67, 0.3), 0px 1px 3px 1px rgba(60, 64, 67, 0.15);\n",
       "        fill: #174EA6;\n",
       "      }\n",
       "\n",
       "      [theme=dark] .colab-df-generate {\n",
       "        background-color: #3B4455;\n",
       "        fill: #D2E3FC;\n",
       "      }\n",
       "\n",
       "      [theme=dark] .colab-df-generate:hover {\n",
       "        background-color: #434B5C;\n",
       "        box-shadow: 0px 1px 3px 1px rgba(0, 0, 0, 0.15);\n",
       "        filter: drop-shadow(0px 1px 2px rgba(0, 0, 0, 0.3));\n",
       "        fill: #FFFFFF;\n",
       "      }\n",
       "    </style>\n",
       "    <button class=\"colab-df-generate\" onclick=\"generateWithVariable('results_df')\"\n",
       "            title=\"Generate code using this dataframe.\"\n",
       "            style=\"display:none;\">\n",
       "\n",
       "  <svg xmlns=\"http://www.w3.org/2000/svg\" height=\"24px\"viewBox=\"0 0 24 24\"\n",
       "       width=\"24px\">\n",
       "    <path d=\"M7,19H8.4L18.45,9,17,7.55,7,17.6ZM5,21V16.75L18.45,3.32a2,2,0,0,1,2.83,0l1.4,1.43a1.91,1.91,0,0,1,.58,1.4,1.91,1.91,0,0,1-.58,1.4L9.25,21ZM18.45,9,17,7.55Zm-12,3A5.31,5.31,0,0,0,4.9,8.1,5.31,5.31,0,0,0,1,6.5,5.31,5.31,0,0,0,4.9,4.9,5.31,5.31,0,0,0,6.5,1,5.31,5.31,0,0,0,8.1,4.9,5.31,5.31,0,0,0,12,6.5,5.46,5.46,0,0,0,6.5,12Z\"/>\n",
       "  </svg>\n",
       "    </button>\n",
       "    <script>\n",
       "      (() => {\n",
       "      const buttonEl =\n",
       "        document.querySelector('#id_9904e510-d580-4392-a5fc-575a881ca0f4 button.colab-df-generate');\n",
       "      buttonEl.style.display =\n",
       "        google.colab.kernel.accessAllowed ? 'block' : 'none';\n",
       "\n",
       "      buttonEl.onclick = () => {\n",
       "        google.colab.notebook.generateWithVariable('results_df');\n",
       "      }\n",
       "      })();\n",
       "    </script>\n",
       "  </div>\n",
       "\n",
       "    </div>\n",
       "  </div>\n"
      ],
      "application/vnd.google.colaboratory.intrinsic+json": {
       "type": "dataframe",
       "variable_name": "results_df",
       "summary": "{\n  \"name\": \"results_df\",\n  \"rows\": 5,\n  \"fields\": [\n    {\n      \"column\": \"model\",\n      \"properties\": {\n        \"dtype\": \"category\",\n        \"num_unique_values\": 1,\n        \"samples\": [\n          \"RandomForest\"\n        ],\n        \"semantic_type\": \"\",\n        \"description\": \"\"\n      }\n    },\n    {\n      \"column\": \"accuracy\",\n      \"properties\": {\n        \"dtype\": \"number\",\n        \"std\": 0.0017848714584335714,\n        \"min\": 0.9296368352788587,\n        \"max\": 0.9345006485084306,\n        \"num_unique_values\": 5,\n        \"samples\": [\n          0.9312581063553826\n        ],\n        \"semantic_type\": \"\",\n        \"description\": \"\"\n      }\n    },\n    {\n      \"column\": \"precision\",\n      \"properties\": {\n        \"dtype\": \"number\",\n        \"std\": 0.054397440630213775,\n        \"min\": 0.25,\n        \"max\": 0.38095238095238093,\n        \"num_unique_values\": 5,\n        \"samples\": [\n          0.25806451612903225\n        ],\n        \"semantic_type\": \"\",\n        \"description\": \"\"\n      }\n    },\n    {\n      \"column\": \"recall\",\n      \"properties\": {\n        \"dtype\": \"number\",\n        \"std\": 0.006810359322334387,\n        \"min\": 0.04060913705583756,\n        \"max\": 0.05583756345177665,\n        \"num_unique_values\": 3,\n        \"samples\": [\n          0.050761421319796954\n        ],\n        \"semantic_type\": \"\",\n        \"description\": \"\"\n      }\n    },\n    {\n      \"column\": \"f1_score\",\n      \"properties\": {\n        \"dtype\": \"number\",\n        \"std\": 0.010419411736990203,\n        \"min\": 0.07017543859649122,\n        \"max\": 0.09565217391304348,\n        \"num_unique_values\": 5,\n        \"samples\": [\n          0.07017543859649122\n        ],\n        \"semantic_type\": \"\",\n        \"description\": \"\"\n      }\n    },\n    {\n      \"column\": \"roc_auc\",\n      \"properties\": {\n        \"dtype\": \"number\",\n        \"std\": 0.0044136362429378975,\n        \"min\": 0.8194831020907658,\n        \"max\": 0.8302789152845154,\n        \"num_unique_values\": 5,\n        \"samples\": [\n          0.8211042323455926\n        ],\n        \"semantic_type\": \"\",\n        \"description\": \"\"\n      }\n    },\n    {\n      \"column\": \"best_params\",\n      \"properties\": {\n        \"dtype\": \"object\",\n        \"semantic_type\": \"\",\n        \"description\": \"\"\n      }\n    },\n    {\n      \"column\": \"best_threshold\",\n      \"properties\": {\n        \"dtype\": \"number\",\n        \"std\": 0.018708286933869722,\n        \"min\": 0.47999999999999976,\n        \"max\": 0.5299999999999998,\n        \"num_unique_values\": 4,\n        \"samples\": [\n          0.48999999999999977\n        ],\n        \"semantic_type\": \"\",\n        \"description\": \"\"\n      }\n    }\n  ]\n}"
      }
     },
     "metadata": {},
     "execution_count": 41
    }
   ],
   "id": "T5hGKiQa0KfG"
  }
 ],
 "metadata": {
  "kernelspec": {
   "display_name": "Python 3",
   "language": "python",
   "name": "python3"
  },
  "language_info": {
   "codemirror_mode": {
    "name": "ipython",
    "version": 2
   },
   "file_extension": ".py",
   "mimetype": "text/x-python",
   "name": "python",
   "nbconvert_exporter": "python",
   "pygments_lexer": "ipython2",
   "version": "2.7.6"
  },
  "colab": {
   "provenance": []
  }
 },
 "nbformat": 4,
 "nbformat_minor": 5
}
